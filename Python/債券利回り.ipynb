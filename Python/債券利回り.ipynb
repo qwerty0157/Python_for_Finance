{
 "cells": [
  {
   "cell_type": "code",
   "execution_count": 1,
   "metadata": {},
   "outputs": [
    {
     "data": {
      "text/plain": [
       "<Figure size 640x480 with 1 Axes>"
      ]
     },
     "metadata": {},
     "output_type": "display_data"
    }
   ],
   "source": [
    "# -*- coding: utf-8 -*-\n",
    "#%% NumPyの読み込み\n",
    "import numpy as np\n",
    "#   NumPyのPolynomialモジュールの読み込み\n",
    "import numpy.polynomial.polynomial as pol\n",
    "#   NumPyのLinalgモジュールの読み込み\n",
    "import numpy.linalg as lin\n",
    "#   MatplotlibのPyplotモジュールの読み込み\n",
    "import matplotlib.pyplot as plt\n",
    "#   日本語フォントの設定\n",
    "from matplotlib.font_manager import FontProperties\n",
    "import sys\n",
    "if sys.platform.startswith('win'):\n",
    "    FontPath = 'C:\\\\Windows\\\\Fonts\\\\meiryo.ttc'\n",
    "elif sys.platform.startswith('darwin'):\n",
    "    FontPath = '/System/Library/Fonts/ヒラギノ角ゴシック W4.ttc'\n",
    "elif sys.platform.startswith('linux'):\n",
    "    FontPath = '/usr/share/fonts/truetype/takao-gothic/TakaoPGothic.ttf'\n",
    "jpfont = FontProperties(fname=FontPath)\n",
    "#%% 債券利回りの計算\n",
    "def Bond_Yield(Price, Maturity, CouponRate, FaceValue):\n",
    "    #      Price: 債券価格\n",
    "    #   Maturity: 残存期間\n",
    "    # CouponRate: 表面利率 (%)\n",
    "    #  FaceValue: 額面\n",
    "    #     Output: 債券利回り (%)\n",
    "    Coupon = 0.01 * CouponRate * FaceValue\n",
    "    CF = np.r_[-Price, np.tile(Coupon, int(Maturity) - 1), FaceValue + Coupon]\n",
    "    Roots = pol.polyroots(CF)\n",
    "    Real = np.real(Roots[np.isreal(Roots)])\n",
    "    Positive = np.asscalar(Real[Real > 0.0])\n",
    "    return (1.0 / Positive - 1.0) * 100\n",
    "#%% 債券の利回り曲線\n",
    "#   債券データ: 1列目-市場価格，2列目-残存期間，3列目-表面利率\n",
    "Bond = np.array([\n",
    "    [ 99.90,  1, 2.0],\n",
    "    [100.10,  2, 2.3],\n",
    "    [100.66,  3, 2.6],\n",
    "    [ 99.77,  4, 2.4],\n",
    "    [ 98.38,  5, 2.2],\n",
    "    [ 96.00,  6, 1.9],\n",
    "    [ 93.70,  7, 1.7],\n",
    "    [ 95.32,  8, 2.1],\n",
    "    [ 95.21,  9, 2.2],\n",
    "    [ 97.00, 10, 2.5]\n",
    "])\n",
    "F = 100\n",
    "#   利付債利回りの計算\n",
    "Yield = np.array([Bond_Yield(Bond[idx,0], Bond[idx,1], Bond[idx,2], F)\n",
    "                  for idx in range(0, Bond.shape[0])])\n",
    "#   割引債利回りの計算\n",
    "P = Bond[:,0]\n",
    "C = F * np.identity(Bond.shape[0]) \\\n",
    "    + np.tril(np.transpose(np.tile(0.01 * Bond[:, 2] * F, (Bond.shape[0], 1))))\n",
    "V = lin.solve(C, P)\n",
    "ZeroRate = (np.power(1.0 / V, 1.0 / Bond[:, 1]) - 1.0) * 100\n",
    "#   利回り曲線のグラフの作成\n",
    "fig1 = plt.figure(1, facecolor='w')\n",
    "plt.plot(Bond[:,1], ZeroRate, 'k-')\n",
    "plt.plot(Bond[:,1], Yield, 'k--')\n",
    "plt.xlabel(u'残存期間', fontproperties=jpfont)\n",
    "plt.ylabel(u'利回り', fontproperties=jpfont)\n",
    "plt.legend([u'割引債の利回り曲線', u'利付債の利回り曲線'], loc='best',\n",
    "           frameon=False, prop=jpfont)\n",
    "plt.show()\n"
   ]
  },
  {
   "cell_type": "code",
   "execution_count": 2,
   "metadata": {},
   "outputs": [
    {
     "data": {
      "image/png": "[encoded data removed]",
      "text/plain": [
       "<Figure size 432x288 with 1 Axes>"
      ]
     },
     "metadata": {},
     "output_type": "display_data"
    }
   ],
   "source": [
    "# -*- coding: utf-8 -*-\n",
    "#%% NumPyの読み込み\n",
    "import numpy as np\n",
    "#   NumPyのPolynomialモジュールの読み込み\n",
    "import numpy.polynomial.polynomial as pol\n",
    "#   NumPyのLinalgモジュールの読み込み\n",
    "import numpy.linalg as lin\n",
    "#   MatplotlibのPyplotモジュールの読み込み\n",
    "import matplotlib.pyplot as plt\n",
    "#   日本語フォントの設定\n",
    "from matplotlib.font_manager import FontProperties\n",
    "import sys\n",
    "if sys.platform.startswith('win'):\n",
    "    FontPath = 'C:\\\\Windows\\\\Fonts\\\\meiryo.ttc'\n",
    "elif sys.platform.startswith('darwin'):\n",
    "    FontPath = '/System/Library/Fonts/ヒラギノ角ゴシック W4.ttc'\n",
    "elif sys.platform.startswith('linux'):\n",
    "    FontPath = '/usr/share/fonts/truetype/takao-gothic/TakaoPGothic.ttf'\n",
    "jpfont = FontProperties(fname=FontPath)\n",
    "#%% 債券利回りの計算\n",
    "def Bond_Yield(Price, Maturity, CouponRate, FaceValue):\n",
    "    #      Price: 債券価格\n",
    "    #   Maturity: 残存期間\n",
    "    # CouponRate: 表面利率 (%)\n",
    "    #  FaceValue: 額面\n",
    "    #     Output: 債券利回り (%)\n",
    "    Coupon = 0.01 * CouponRate * FaceValue\n",
    "    CF = np.r_[-Price, np.tile(Coupon, int(Maturity) - 1), FaceValue + Coupon]\n",
    "    Roots = pol.polyroots(CF)\n",
    "    Real = np.real(Roots[np.isreal(Roots)])\n",
    "    Positive = np.asscalar(Real[Real > 0.0])\n",
    "    return (1.0 / Positive - 1.0) * 100\n",
    "#%% 債券の利回り曲線\n",
    "#   債券データ: 1列目-市場価格，2列目-残存期間，3列目-表面利率\n",
    "Bond = np.array([\n",
    "    [ 99.90,  1, 2.0],\n",
    "    [100.10,  2, 2.3],\n",
    "    [100.66,  3, 2.6],\n",
    "    [ 99.77,  4, 2.4],\n",
    "    [ 98.38,  5, 2.2],\n",
    "    [ 96.00,  6, 1.9],\n",
    "    [ 93.70,  7, 1.7],\n",
    "    [ 95.32,  8, 2.1],\n",
    "    [ 95.21,  9, 2.2],\n",
    "    [ 97.00, 10, 2.5]\n",
    "])\n",
    "F = 100\n",
    "#   利付債利回りの計算\n",
    "Yield = np.array([Bond_Yield(Bond[idx,0], Bond[idx,1], Bond[idx,2], F)\n",
    "                  for idx in range(0, Bond.shape[0])])\n",
    "#   割引債利回りの計算\n",
    "P = Bond[:,0]\n",
    "C = F * np.identity(Bond.shape[0]) \\\n",
    "    + np.tril(np.transpose(np.tile(0.01 * Bond[:, 2] * F, (Bond.shape[0], 1))))\n",
    "V = lin.solve(C, P)\n",
    "ZeroRate = (np.power(1.0 / V, 1.0 / Bond[:, 1]) - 1.0) * 100\n",
    "#   利回り曲線のグラフの作成\n",
    "fig1 = plt.figure(1, facecolor='w')\n",
    "plt.plot(Bond[:,1], ZeroRate, 'k-')\n",
    "plt.plot(Bond[:,1], Yield, 'k--')\n",
    "plt.xlabel(u'残存期間', fontproperties=jpfont)\n",
    "plt.ylabel(u'利回り', fontproperties=jpfont)\n",
    "plt.legend([u'割引債の利回り曲線', u'利付債の利回り曲線'], loc='best',\n",
    "           frameon=False, prop=jpfont)\n",
    "plt.show()"
   ]
  },
  {
   "cell_type": "code",
   "execution_count": 3,
   "metadata": {},
   "outputs": [
    {
     "data": {
      "text/plain": [
       "(10, 3)"
      ]
     },
     "execution_count": 3,
     "metadata": {},
     "output_type": "execute_result"
    }
   ],
   "source": [
    "Bond.shape"
   ]
  },
  {
   "cell_type": "code",
   "execution_count": 4,
   "metadata": {},
   "outputs": [
    {
     "data": {
      "text/plain": [
       "10"
      ]
     },
     "execution_count": 4,
     "metadata": {},
     "output_type": "execute_result"
    }
   ],
   "source": [
    "Bond.shape[0]"
   ]
  },
  {
   "cell_type": "code",
   "execution_count": null,
   "metadata": {},
   "outputs": [],
   "source": []
  }
 ],
 "metadata": {
  "kernelspec": {
   "display_name": "Python 3",
   "language": "python",
   "name": "python3"
  },
  "language_info": {
   "codemirror_mode": {
    "name": "ipython",
    "version": 3
   },
   "file_extension": ".py",
   "mimetype": "text/x-python",
   "name": "python",
   "nbconvert_exporter": "python",
   "pygments_lexer": "ipython3",
   "version": "3.6.5"
  }
 },
 "nbformat": 4,
 "nbformat_minor": 2
}
