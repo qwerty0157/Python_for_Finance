{
 "cells": [
  {
   "cell_type": "code",
   "execution_count": 1,
   "metadata": {},
   "outputs": [],
   "source": [
    "# -*- coding: utf-8 -*-\n",
    "#%% NumPyの読み込み\n",
    "import numpy as np\n",
    "#   原資産価格の二項木の生成\n",
    "def Binomial_Price_Tree(CurrentPrice, Uptick, NumberOfPeriods):\n",
    "    #     CurrentPrice: 現時点の原資産価格\n",
    "    #           Uptick: 原資産価格の上昇率（この逆数が下落率）\n",
    "    #  NumberOfPeriods: 満期までの期間数\n",
    "    #           Output: 原資産価格の二項木\n",
    "    Price = np.array([CurrentPrice])\n",
    "    yield Price\n",
    "    for i in range(NumberOfPeriods):\n",
    "        Price = np.r_[Price * Uptick, Price[-1] / Uptick]\n",
    "        yield Price\n",
    "#   ヨーロピアン・オプション価格の計算\n",
    "def European_Option_Pricing(Payoff, DiscountFactor, RiskNeutralProb):\n",
    "    #           Payoff: 利得の二項木\n",
    "    #   DiscountFactor: 割引係数\n",
    "    #  RiskNeutralProb: リスク中立確率\n",
    "    #           Output: オプション価格の二項木\n",
    "    Premium = Payoff[-1]\n",
    "    yield Premium\n",
    "    for i in range(len(Payoff) - 1):\n",
    "        Premium = (RiskNeutralProb * Premium[:-1] +\n",
    "                   (1.0 - RiskNeutralProb) * Premium[1:]) * DiscountFactor\n",
    "        yield Premium\n",
    "#   アメリカン・オプション価格の計算\n",
    "def American_Option_Pricing(Payoff, DiscountFactor, RiskNeutralProb):\n",
    "    #           Payoff: 利得の二項木\n",
    "    #   DiscountFactor: 割引係数\n",
    "    #  RiskNeutralProb: リスク中立確率\n",
    "    #           Output: オプション価格の二項木\n",
    "    Premium = Payoff[-1]\n",
    "    yield Premium\n",
    "    for i in range(2, len(Payoff) + 1):\n",
    "        Premium = np.maximum(Payoff[-i],\n",
    "                             (RiskNeutralProb * Premium[:-1]\n",
    "                              + (1.0 - RiskNeutralProb) * Premium[1:])\n",
    "                             * DiscountFactor)\n",
    "        yield Premium\n",
    "#%% オプション価格の計算\n",
    "S = 100.0\n",
    "K = 100.0\n",
    "u = 1.05\n",
    "d = 1.0/u\n",
    "f = 1.02\n",
    "N = 3\n",
    "q = (f - d) / (u - d)\n",
    "Price = [S for S in Binomial_Price_Tree(S, u, N)]\n",
    "Payoff_Call = [np.maximum(S - K, 0.0) for S in Price]\n",
    "European_Call = [C for C in European_Option_Pricing(Payoff_Call, 1.0/f, q)]\n",
    "Payoff_Put = [np.maximum(K - S, 0.0) for S in Price]\n",
    "European_Put = [P for P in European_Option_Pricing(Payoff_Put, 1.0/f, q)]\n",
    "American_Put = [P for P in American_Option_Pricing(Payoff_Put, 1.0/f, q)]"
   ]
  },
  {
   "cell_type": "code",
   "execution_count": 2,
   "metadata": {},
   "outputs": [
    {
     "data": {
      "text/plain": [
       "[array([100.]),\n",
       " array([105.        ,  95.23809524]),\n",
       " array([110.25      , 100.        ,  90.70294785]),\n",
       " array([115.7625    , 105.        ,  95.23809524,  86.38375985])]"
      ]
     },
     "execution_count": 2,
     "metadata": {},
     "output_type": "execute_result"
    }
   ],
   "source": [
    "Price"
   ]
  },
  {
   "cell_type": "code",
   "execution_count": 3,
   "metadata": {},
   "outputs": [
    {
     "data": {
      "text/plain": [
       "[array([ 0.        ,  0.        ,  4.76190476, 13.61624015]),\n",
       " array([0.        , 1.43472023, 9.29705215]),\n",
       " array([0.43226865, 4.76190476]),\n",
       " array([1.72827426])]"
      ]
     },
     "execution_count": 3,
     "metadata": {},
     "output_type": "execute_result"
    }
   ],
   "source": [
    "American_Put"
   ]
  },
  {
   "cell_type": "code",
   "execution_count": 4,
   "metadata": {},
   "outputs": [
    {
     "data": {
      "text/plain": [
       "[array([15.7625,  5.    ,  0.    ,  0.    ]),\n",
       " array([12.21078431,  3.39550454,  0.        ]),\n",
       " array([9.31539052, 2.30589022]),\n",
       " array([7.02083471])]"
      ]
     },
     "execution_count": 4,
     "metadata": {},
     "output_type": "execute_result"
    }
   ],
   "source": [
    "European_Call"
   ]
  },
  {
   "cell_type": "code",
   "execution_count": 6,
   "metadata": {},
   "outputs": [
    {
     "data": {
      "text/plain": [
       "[array([0.]),\n",
       " array([5., 0.]),\n",
       " array([10.25,  0.  ,  0.  ]),\n",
       " array([15.7625,  5.    ,  0.    ,  0.    ])]"
      ]
     },
     "execution_count": 6,
     "metadata": {},
     "output_type": "execute_result"
    }
   ],
   "source": [
    "Payoff_Call"
   ]
  },
  {
   "cell_type": "code",
   "execution_count": 7,
   "metadata": {},
   "outputs": [
    {
     "data": {
      "text/plain": [
       "[array([ 0.        ,  0.        ,  4.76190476, 13.61624015]),\n",
       " array([0.        , 1.43472023, 7.33626784]),\n",
       " array([0.43226865, 3.18467311]),\n",
       " array([1.25306817])]"
      ]
     },
     "execution_count": 7,
     "metadata": {},
     "output_type": "execute_result"
    }
   ],
   "source": [
    "European_Put"
   ]
  },
  {
   "cell_type": "code",
   "execution_count": 8,
   "metadata": {},
   "outputs": [
    {
     "data": {
      "text/plain": [
       "[array([ 0.        ,  0.        ,  4.76190476, 13.61624015]),\n",
       " array([0.        , 1.43472023, 9.29705215]),\n",
       " array([0.43226865, 4.76190476]),\n",
       " array([1.72827426])]"
      ]
     },
     "execution_count": 8,
     "metadata": {},
     "output_type": "execute_result"
    }
   ],
   "source": [
    "American_Put"
   ]
  },
  {
   "cell_type": "code",
   "execution_count": null,
   "metadata": {},
   "outputs": [],
   "source": []
  }
 ],
 "metadata": {
  "kernelspec": {
   "display_name": "Python 3",
   "language": "python",
   "name": "python3"
  },
  "language_info": {
   "codemirror_mode": {
    "name": "ipython",
    "version": 3
   },
   "file_extension": ".py",
   "mimetype": "text/x-python",
   "name": "python",
   "nbconvert_exporter": "python",
   "pygments_lexer": "ipython3",
   "version": "3.6.5"
  }
 },
 "nbformat": 4,
 "nbformat_minor": 2
}
