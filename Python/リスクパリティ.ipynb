{
 "cells": [
  {
   "cell_type": "code",
   "execution_count": 1,
   "metadata": {},
   "outputs": [
    {
     "name": "stdout",
     "output_type": "stream",
     "text": [
      "[[  20.00   69.77   36.52   42.81]\n",
      " [  20.00    3.79   16.78   16.10]\n",
      " [  20.00   23.33   21.39   19.22]\n",
      " [  20.00    2.98   11.35   12.61]\n",
      " [  20.00    0.14   13.96    9.26]]\n"
     ]
    }
   ],
   "source": [
    "# -*- coding: utf-8 -*-\n",
    "#%% NumPyの読み込み\n",
    "import numpy as np\n",
    "#   NumPyのLinalgモジュールの読み込み\n",
    "import numpy.linalg as lin\n",
    "#   SciPyのoptimizeモジュールの読み込み\n",
    "import scipy.optimize as opt\n",
    "#%% リスク寄与度の平準化によるポートフォリオ選択\n",
    "Mu = np.array([1.0, 3.0, 1.5, 6.0, 4.5])\n",
    "Stdev = np.array([5.0, 10.0, 7.5, 15.0, 11.0])\n",
    "CorrMatrix = np.array([[1.00, 0.25, 0.18, 0.10, 0.25],\n",
    "                       [0.25, 1.00, 0.36, 0.20, 0.20],\n",
    "                       [0.18, 0.36, 1.00, 0.25, 0.36],\n",
    "                       [0.10, 0.20, 0.25, 1.00, 0.45],\n",
    "                       [0.25, 0.20, 0.36, 0.45, 1.00]])\n",
    "Sigma = np.diag(Stdev).dot(CorrMatrix).dot(np.diag(Stdev))\n",
    "iota = np.ones(Mu.shape)\n",
    "inv_Sigma = lin.inv(Sigma)\n",
    "Weight_1N = np.tile(1.0/Mu.shape[0], Mu.shape[0])\n",
    "Weight_MV = inv_Sigma.dot(iota) / iota.dot(inv_Sigma).dot(iota)\n",
    "Weight_MD = inv_Sigma.dot(Stdev) / iota.dot(inv_Sigma).dot(Stdev)\n",
    "F = lambda v, Sigma: np.r_[Sigma.dot(v[:-1])-v[-1]/v[:-1], v[:-1].sum()-1.0]\n",
    "Weight_RP = opt.root(F, np.r_[Weight_1N, 0.0], args=Sigma).x[:-1]\n",
    "np.set_printoptions(formatter={'float': '{:7.2f}'.format})\n",
    "print(np.c_[Weight_1N, Weight_MV, Weight_RP, Weight_MD]*100)\n"
   ]
  },
  {
   "cell_type": "code",
   "execution_count": null,
   "metadata": {},
   "outputs": [],
   "source": []
  }
 ],
 "metadata": {
  "kernelspec": {
   "display_name": "Python 3",
   "language": "python",
   "name": "python3"
  },
  "language_info": {
   "codemirror_mode": {
    "name": "ipython",
    "version": 3
   },
   "file_extension": ".py",
   "mimetype": "text/x-python",
   "name": "python",
   "nbconvert_exporter": "python",
   "pygments_lexer": "ipython3",
   "version": "3.6.5"
  }
 },
 "nbformat": 4,
 "nbformat_minor": 2
}
